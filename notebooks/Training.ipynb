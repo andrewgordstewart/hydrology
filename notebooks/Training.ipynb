{
 "cells": [
  {
   "cell_type": "code",
   "execution_count": null,
   "metadata": {},
   "outputs": [],
   "source": [
    "#Start to process the data in the sky directory\n",
    "import numpy as np\n",
    "import cv2\n",
    "from matplotlib import pyplot as plt\n",
    "import os \n",
    "import pandas as pd\n",
    "from  PIL import Image\n",
    "import csv\n",
    "import random"
   ]
  },
  {
   "cell_type": "code",
   "execution_count": null,
   "metadata": {},
   "outputs": [],
   "source": [
    "#See what a partly cloudy image looks like\n",
    "#Partly cloudy image is  ../data/photos/sky/Atha/2016/WSCT1890.JPG\n",
    "\n",
    "partlyCPath = '../data/photos/sky/Atha/2016/WSCT1890.JPG'\n",
    "cloudyPath = '../data/photos/sky/Atha/2016/WSCT1800.JPG'\n",
    "bluePath = '../data/photos/sky/Atha/2016/WSCT1806.JPG'\n",
    "img = cv2.imread(partlyCPath)\n",
    "imgC = cv2.imread(cloudyPath)\n",
    "imgB = cv2.imread(bluePath)\n",
    "blueToRedRatio = img[:,:,0]/img[:,:,2]\n",
    "plt.hist(blueToRedRatio.flatten())\n",
    "pCMean = np.mean(img[:,:,0]/img[:,:,2])\n",
    "pCStd = np.std(img[:,:,0]/img[:,:,2])\n",
    "print(pCMean)\n",
    "print(pCStd)"
   ]
  },
  {
   "cell_type": "code",
   "execution_count": null,
   "metadata": {},
   "outputs": [],
   "source": [
    "blueToRedRatio = imgB[:,:,0]/imgB[:,:,2]\n",
    "plt.hist(blueToRedRatio.flatten())\n",
    "bMean = np.mean(imgB[:,:,0]/imgB[:,:,2])\n",
    "bStd = np.std(imgB[:,:,0]/imgB[:,:,2])\n",
    "print(bMean)\n",
    "print(bStd)"
   ]
  },
  {
   "cell_type": "code",
   "execution_count": null,
   "metadata": {},
   "outputs": [],
   "source": [
    "blueToRedRatio = imgC[:,:,0]/imgC[:,:,2]\n",
    "plt.hist(blueToRedRatio.flatten())\n",
    "cMean = np.mean(imgC[:,:,0]/imgC[:,:,2])\n",
    "cStd = np.std(imgC[:,:,0]/imgC[:,:,2])\n",
    "print(cMean)\n",
    "print(cStd)"
   ]
  },
  {
   "cell_type": "code",
   "execution_count": null,
   "metadata": {},
   "outputs": [],
   "source": []
  }
 ],
 "metadata": {
  "kernelspec": {
   "display_name": "Python 3",
   "language": "python",
   "name": "python3"
  },
  "language_info": {
   "codemirror_mode": {
    "name": "ipython",
    "version": 3
   },
   "file_extension": ".py",
   "mimetype": "text/x-python",
   "name": "python",
   "nbconvert_exporter": "python",
   "pygments_lexer": "ipython3",
   "version": "3.6.7"
  }
 },
 "nbformat": 4,
 "nbformat_minor": 2
}
