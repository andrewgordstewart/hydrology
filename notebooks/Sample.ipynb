{
 "cells": [
  {
   "cell_type": "code",
   "execution_count": 28,
   "metadata": {
    "scrolled": true
   },
   "outputs": [],
   "source": [
    "import numpy as np\n",
    "import cv2\n",
    "from matplotlib import pyplot as plt\n",
    "import os \n",
    "import csv"
   ]
  },
  {
   "cell_type": "code",
   "execution_count": 29,
   "metadata": {
    "scrolled": true
   },
   "outputs": [],
   "source": [
    "img = cv2.imread('../data/photos/original/Atha/2015/WSCT1155.JPG')"
   ]
  },
  {
   "cell_type": "markdown",
   "metadata": {},
   "source": [
    "# Plotting an image using matplotlib"
   ]
  },
  {
   "cell_type": "code",
   "execution_count": null,
   "metadata": {},
   "outputs": [],
   "source": [
    "plt.imshow(img, cmap = 'gray', interpolation = 'bicubic')"
   ]
  },
  {
   "cell_type": "markdown",
   "metadata": {},
   "source": [
    "# Calculating histograms of an image\n",
    "See [link](https://opencv-python-tutroals.readthedocs.io/en/latest/py_tutorials/py_imgproc/py_histograms/py_histogram_begins/py_histogram_begins.html#histograms-getting-started)"
   ]
  },
  {
   "cell_type": "code",
   "execution_count": null,
   "metadata": {},
   "outputs": [],
   "source": [
    "hist = cv2.calcHist([img],[0],None,[256],[0,256])\n",
    "plt.hist(img.ravel(),256,[0,256])\n",
    "plt.show()"
   ]
  },
  {
   "cell_type": "code",
   "execution_count": null,
   "metadata": {},
   "outputs": [],
   "source": [
    "color = ('b','g','r')\n",
    "for i,col in enumerate(color):\n",
    "    histr = cv2.calcHist([img],[i],None,[256],[0,256])\n",
    "    plt.plot(histr,color = col)\n",
    "    plt.xlim([0,256])\n",
    "plt.show()\n",
    "\n",
    "# Turn this into a function\n",
    "\n",
    "def plotHistogram(img):\n",
    "    color = ('b','g','r')\n",
    "    for i,col in enumerate(color):\n",
    "        histr = cv2.calcHist([img],[i],None,[256],[0,256])\n",
    "        plt.plot(histr,color = col)\n",
    "        plt.xlim([0,256])\n",
    "        plt.show()"
   ]
  },
  {
   "cell_type": "markdown",
   "metadata": {},
   "source": [
    "# Selecting a region of the image"
   ]
  },
  {
   "cell_type": "code",
   "execution_count": null,
   "metadata": {},
   "outputs": [],
   "source": [
    "clouds = img[0:450, 600:1000]\n",
    "plt.imshow(clouds)\n",
    "\n",
    "# Create a function to return the sky region\n",
    "def getSky(img):\n",
    "    return img[0:450, 600:1000]\n",
    "\n",
    "plt.imshow(getSky(img))"
   ]
  },
  {
   "cell_type": "code",
   "execution_count": null,
   "metadata": {},
   "outputs": [],
   "source": [
    "plotHistogram(clouds)"
   ]
  },
  {
   "cell_type": "code",
   "execution_count": null,
   "metadata": {},
   "outputs": [],
   "source": [
    "folders = []\n",
    "directory = '../data/photos/original/'"
   ]
  },
  {
   "cell_type": "code",
   "execution_count": null,
   "metadata": {},
   "outputs": [],
   "source": [
    "#Create sub folders for different area's of the image\n",
    "#imgArea is the name of the sub area \n",
    "def createFolders(folders,imgArea):\n",
    "    for folder in folders:\n",
    "        folder = folder[:15] + imgArea + folder[23:]\n",
    "        print(folder)\n",
    "        if not os.path.isdir(folder):\n",
    "            os.makedirs(folder)    "
   ]
  },
  {
   "cell_type": "code",
   "execution_count": null,
   "metadata": {},
   "outputs": [],
   "source": [
    "#Walk through the folders get .JPG files and their folders \n",
    "def folderWalker(path):\n",
    "    for root, dirs, files in os.walk(path):\n",
    "        for file in files:\n",
    "            if file.endswith('.JPG'):\n",
    "                #print(os.path.join(root, file))\n",
    "                imgPath = os.path.join(root, file) \n",
    "                img = cv2.imread(imgPath)\n",
    "                skyImg = getSky(img)\n",
    "                #print(skyImg)"
   ]
  },
  {
   "cell_type": "code",
   "execution_count": null,
   "metadata": {},
   "outputs": [],
   "source": [
    "#create path for new folders for sky images\n",
    "#create folders in that paths\n",
    "def skyPath(path,folders):\n",
    "    for root, dirs, files in os.walk(path):\n",
    "        for file in files: \n",
    "            if file.endswith('.JPG'):\n",
    "                folder = os.path.join(root)\n",
    "            if folder not in folders:\n",
    "                folders.append(folder)\n",
    "    createFolders(folders,'sky')\n",
    "    "
   ]
  },
  {
   "cell_type": "code",
   "execution_count": 14,
   "metadata": {
    "scrolled": true
   },
   "outputs": [
    {
     "name": "stdout",
     "output_type": "stream",
     "text": [
      "../data/photos/sky/Atha/2016\n",
      "../data/photos/sky/Atha/2015\n",
      "../data/photos/sky/Atha/2018\n",
      "../data/photos/sky/Atha/2017/b\n",
      "../data/photos/sky/Atha/2017/a\n"
     ]
    }
   ],
   "source": [
    "skyPath(directory,folders)\n",
    "#folderWalker(directory)"
   ]
  },
  {
   "cell_type": "code",
   "execution_count": 30,
   "metadata": {},
   "outputs": [],
   "source": [
    "#images 3D array to .csv file \n",
    "csvPath = '../data/photos/original/Atha/2015/'\n",
    "image = cv2.imread(csvPath + 'WSCT0692.JPG')\n",
    "sky = getSky(image)\n",
    "import csv\n",
    "#np.savetxt('mydata.csv', sky, delimiter = ',', fmt = ('%3i','%3i','%3i'), header = 'x, y, bgr')\n",
    "\n",
    "\n",
    "fil_name = '../data/photos/original/Atha/2015/WSCT0692'\n",
    "sky = sky.tolist()\n",
    "with open(fil_name+'.csv', 'w', newline='') as csvfile:\n",
    "    writer = csv.writer(csvfile, delimiter=',')\n",
    "    writer.writerows(sky)\n"
   ]
  },
  {
   "cell_type": "code",
   "execution_count": null,
   "metadata": {},
   "outputs": [],
   "source": []
  },
  {
   "cell_type": "code",
   "execution_count": null,
   "metadata": {},
   "outputs": [],
   "source": []
  }
 ],
 "metadata": {
  "kernelspec": {
   "display_name": "Python 3",
   "language": "python",
   "name": "python3"
  },
  "language_info": {
   "codemirror_mode": {
    "name": "ipython",
    "version": 3
   },
   "file_extension": ".py",
   "mimetype": "text/x-python",
   "name": "python",
   "nbconvert_exporter": "python",
   "pygments_lexer": "ipython3",
   "version": "3.6.7"
  }
 },
 "nbformat": 4,
 "nbformat_minor": 2
}
