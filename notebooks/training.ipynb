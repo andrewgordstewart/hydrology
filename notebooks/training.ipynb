{
 "cells": [
  {
   "cell_type": "code",
   "execution_count": 4,
   "metadata": {},
   "outputs": [],
   "source": [
    "import numpy as np\n",
    "import cv2\n",
    "from matplotlib import pyplot as plt\n",
    "import os \n",
    "import pandas as pd\n",
    "from  PIL import Image\n",
    "import csv\n",
    "import random"
   ]
  },
  {
   "cell_type": "code",
   "execution_count": 8,
   "metadata": {},
   "outputs": [],
   "source": [
    "#define global variables\n",
    "#Training data is based on the Atha 2016 images\n",
    "path = '../data/photos/sky/Atha/2016/'\n",
    "files = []\n"
   ]
  },
  {
   "cell_type": "code",
   "execution_count": 12,
   "metadata": {},
   "outputs": [],
   "source": [
    "#Create training data and perform training\n",
    "#Need to create CSV file for training data \n",
    "def trainingDataList():\n",
    "    randFiles = []\n",
    "    path = '../data/photos/sky/Atha/2016/'\n",
    "    for file in os.listdir(path):\n",
    "        files.append(path + file)\n",
    "    iter = 0\n",
    "    while(iter<120):\n",
    "        name = random.choice(files)\n",
    "        if name not in randFiles:\n",
    "            randFiles.append(name)\n",
    "            iter+=1\n",
    "    return randFiles     "
   ]
  },
  {
   "cell_type": "code",
   "execution_count": 13,
   "metadata": {},
   "outputs": [],
   "source": [
    "def trainingDataCSV(randFiles):\n",
    "    with open(path + 'trainingData.csv', 'a', newline = '') as csvfile: \n",
    "        writer = csv.writer(csvfile)\n",
    "        for file in randFiles:\n",
    "            writer.writerow([file])"
   ]
  },
  {
   "cell_type": "code",
   "execution_count": 14,
   "metadata": {},
   "outputs": [],
   "source": [
    "#generate csv file with filenames in single column\n",
    "#use as training data\n",
    "randFiles = [] \n",
    "randFiles = trainingDataList()\n",
    "trainingDataCSV(randFiles)"
   ]
  },
  {
   "cell_type": "code",
   "execution_count": null,
   "metadata": {},
   "outputs": [],
   "source": [
    "#get the path from trainingData.csv file \n",
    "#open .csv file\n",
    "\n",
    "#iterate through rows in column 1\n",
    "\n",
    "img = cv2.imread(traingPath)"
   ]
  },
  {
   "cell_type": "code",
   "execution_count": null,
   "metadata": {},
   "outputs": [],
   "source": [
    "#flatten image and get the mean and variance of blue to red pixels"
   ]
  },
  {
   "cell_type": "code",
   "execution_count": null,
   "metadata": {},
   "outputs": [],
   "source": []
  }
 ],
 "metadata": {
  "kernelspec": {
   "display_name": "Python 3",
   "language": "python",
   "name": "python3"
  },
  "language_info": {
   "codemirror_mode": {
    "name": "ipython",
    "version": 3
   },
   "file_extension": ".py",
   "mimetype": "text/x-python",
   "name": "python",
   "nbconvert_exporter": "python",
   "pygments_lexer": "ipython3",
   "version": "3.6.7"
  }
 },
 "nbformat": 4,
 "nbformat_minor": 2
}
